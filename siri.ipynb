{
  "nbformat": 4,
  "nbformat_minor": 0,
  "metadata": {
    "colab": {
      "name": "Apple_Speaker_Identification.ipynb",
      "provenance": [],
      "collapsed_sections": [],
      "include_colab_link": true
    },
    "kernelspec": {
      "name": "python3",
      "display_name": "Python 3"
    },
    "language_info": {
      "name": "python"
    }
  },
  "cells": [
    {
      "cell_type": "markdown",
      "metadata": {
        "id": "view-in-github",
        "colab_type": "text"
      },
      "source": [
        "<a href=\"https://colab.research.google.com/github/rokingshubham1/HEY_SIRI/blob/main/siri.ipynb\" target=\"_parent\"><img src=\"https://colab.research.google.com/assets/colab-badge.svg\" alt=\"Open In Colab\"/></a>"
      ]
    },
    {
      "cell_type": "code",
      "metadata": {
        "id": "P2YjWJHv6iRp"
      },
      "source": [
        "!pip install speaker-verification-toolkit"
      ],
      "execution_count": null,
      "outputs": []
    },
    {
      "cell_type": "code",
      "metadata": {
        "id": "9b5WV_x_6msX",
        "colab": {
          "base_uri": "https://localhost:8080/"
        },
        "outputId": "c0267f78-fda3-4ed5-c9a4-0e855c53d8c4"
      },
      "source": [
        "!pip install numba==0.48"
      ],
      "execution_count": null,
      "outputs": [
        {
          "output_type": "stream",
          "name": "stdout",
          "text": [
            "Collecting numba==0.48\n",
            "  Downloading numba-0.48.0-1-cp37-cp37m-manylinux2014_x86_64.whl (3.5 MB)\n",
            "\u001b[K     |████████████████████████████████| 3.5 MB 7.9 MB/s \n",
            "\u001b[?25hRequirement already satisfied: numpy>=1.15 in /usr/local/lib/python3.7/dist-packages (from numba==0.48) (1.19.5)\n",
            "Collecting llvmlite<0.32.0,>=0.31.0dev0\n",
            "  Downloading llvmlite-0.31.0-cp37-cp37m-manylinux1_x86_64.whl (20.2 MB)\n",
            "\u001b[K     |████████████████████████████████| 20.2 MB 1.4 MB/s \n",
            "\u001b[?25hRequirement already satisfied: setuptools in /usr/local/lib/python3.7/dist-packages (from numba==0.48) (57.4.0)\n",
            "Installing collected packages: llvmlite, numba\n",
            "  Attempting uninstall: llvmlite\n",
            "    Found existing installation: llvmlite 0.34.0\n",
            "    Uninstalling llvmlite-0.34.0:\n",
            "      Successfully uninstalled llvmlite-0.34.0\n",
            "  Attempting uninstall: numba\n",
            "    Found existing installation: numba 0.51.2\n",
            "    Uninstalling numba-0.51.2:\n",
            "      Successfully uninstalled numba-0.51.2\n",
            "\u001b[31mERROR: pip's dependency resolver does not currently take into account all the packages that are installed. This behaviour is the source of the following dependency conflicts.\n",
            "kapre 0.3.5 requires librosa>=0.7.2, but you have librosa 0.7.0 which is incompatible.\u001b[0m\n",
            "Successfully installed llvmlite-0.31.0 numba-0.48.0\n"
          ]
        }
      ]
    },
    {
      "cell_type": "code",
      "metadata": {
        "id": "XgRqo5qPCrR3"
      },
      "source": [
        "import speaker_verification_toolkit.tools as svt"
      ],
      "execution_count": null,
      "outputs": []
    },
    {
      "cell_type": "code",
      "metadata": {
        "id": "mpPmt6ja-n2A"
      },
      "source": [
        "import librosa"
      ],
      "execution_count": null,
      "outputs": []
    },
    {
      "cell_type": "code",
      "metadata": {
        "id": "t2PnIOseBN8U",
        "colab": {
          "base_uri": "https://localhost:8080/"
        },
        "outputId": "a140d25f-717c-4ef6-c910-21b682ab63cc"
      },
      "source": [
        "librosa.load('/Prakriti.wav')"
      ],
      "execution_count": null,
      "outputs": [
        {
          "output_type": "execute_result",
          "data": {
            "text/plain": [
              "(array([-6.6978714e-07,  8.1520119e-07, -9.6907604e-07, ...,\n",
              "         3.8325019e-02,  3.4522779e-02,  3.6402646e-02], dtype=float32), 22050)"
            ]
          },
          "metadata": {},
          "execution_count": 6
        }
      ]
    },
    {
      "cell_type": "code",
      "metadata": {
        "id": "DMEbz7lL-qus",
        "colab": {
          "base_uri": "https://localhost:8080/"
        },
        "outputId": "2f920764-21eb-4dea-806c-69094ad964fd"
      },
      "source": [
        "data1, sr = librosa.load('/Prakriti_2.wav', sr=16000, mono=True)\n",
        "data2, sr = librosa.load('/Prakriti.wav', sr=16000, mono=True)\n",
        "\n",
        "data1 = svt.rms_silence_filter(data1)\n",
        "data2 = svt.rms_silence_filter(data2)\n",
        "\n",
        "data1 = svt.extract_mfcc(data1)\n",
        "data2 = svt.extract_mfcc(data2)\n",
        "\n",
        "print(\n",
        "    'The difference between voice1 and voice2 is',\n",
        "    svt.compute_distance(data1,data2)\n",
        ")"
      ],
      "execution_count": null,
      "outputs": [
        {
          "output_type": "stream",
          "name": "stdout",
          "text": [
            "The difference between voice1 and voice2 is 136760.3550290822\n"
          ]
        }
      ]
    },
    {
      "cell_type": "code",
      "metadata": {
        "id": "YcQqcqvG-qrI",
        "colab": {
          "base_uri": "https://localhost:8080/"
        },
        "outputId": "ad80e515-4f64-47bc-e232-3d6261ac842d"
      },
      "source": [
        "svt.compute_distance(data1, data2)"
      ],
      "execution_count": null,
      "outputs": [
        {
          "output_type": "execute_result",
          "data": {
            "text/plain": [
              "136760.3550290822"
            ]
          },
          "metadata": {},
          "execution_count": 8
        }
      ]
    },
    {
      "cell_type": "code",
      "metadata": {
        "id": "HecP-mTv-qnQ"
      },
      "source": [
        "data3, sr = librosa.load('/example.wav', sr=16000, mono=True)\n",
        "data3 = svt.rms_silence_filter(data3)\n",
        "data3 = svt.extract_mfcc(data3)"
      ],
      "execution_count": null,
      "outputs": []
    },
    {
      "cell_type": "code",
      "metadata": {
        "id": "SefHbxyl-qjf",
        "colab": {
          "base_uri": "https://localhost:8080/"
        },
        "outputId": "76bc3172-e179-454a-ef61-6bace2d62116"
      },
      "source": [
        "svt.compute_distance(data3, data2)"
      ],
      "execution_count": null,
      "outputs": [
        {
          "output_type": "execute_result",
          "data": {
            "text/plain": [
              "1013011.269559927"
            ]
          },
          "metadata": {},
          "execution_count": 10
        }
      ]
    },
    {
      "cell_type": "code",
      "metadata": {
        "colab": {
          "base_uri": "https://localhost:8080/"
        },
        "id": "adr4JE1K7WbS",
        "outputId": "5df6efe9-02de-4553-96a9-48f0e017c43c"
      },
      "source": [
        "svt.find_nearest_voice_data([ data3, data1], data2)"
      ],
      "execution_count": null,
      "outputs": [
        {
          "output_type": "execute_result",
          "data": {
            "text/plain": [
              "1"
            ]
          },
          "metadata": {},
          "execution_count": 13
        }
      ]
    }
  ]
}